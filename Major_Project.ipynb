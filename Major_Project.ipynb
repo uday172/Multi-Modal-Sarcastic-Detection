{
 "cells": [
  {
   "cell_type": "code",
   "execution_count": 1,
   "id": "91833583",
   "metadata": {},
   "outputs": [],
   "source": [
    "#!/usr/bin/env python\n",
    "import argparse\n",
    "import json\n",
    "import os\n",
    "from typing import Any, Iterable, Mapping, Tuple\n",
    "\n",
    "import numpy as np\n",
    "import sklearn\n",
    "from sklearn import svm\n",
    "from sklearn.metrics import classification_report, confusion_matrix\n",
    "from sklearn.pipeline import make_pipeline\n",
    "from sklearn.preprocessing import FunctionTransformer, StandardScaler\n",
    "\n",
    "from config import CONFIG_BY_KEY, Config\n",
    "from data_loader import DataHelper, DataLoader"
   ]
  },
  {
   "cell_type": "code",
   "execution_count": 2,
   "id": "613b6a53",
   "metadata": {},
   "outputs": [],
   "source": [
    "def train_io(config: Config, data: DataLoader, train_index: Iterable[int],\n",
    "             test_index: Iterable[int]) -> Tuple[np.ndarray, np.ndarray, np.ndarray, np.ndarray]:\n",
    "    train_input, train_output = data.get_split(train_index)\n",
    "    test_input, test_output = data.get_split(test_index)\n",
    "\n",
    "    datahelper = DataHelper(train_input, train_output, test_input, test_output, config, data)\n",
    "\n",
    "    train_input = np.empty((len(train_input), 0))\n",
    "    test_input = np.empty((len(test_input), 0))\n",
    "\n",
    "    if config.use_target_text:\n",
    "        if config.use_bert:\n",
    "            train_input = np.concatenate([train_input, datahelper.get_target_bert_feature(mode=\"train\")], axis=1)\n",
    "            test_input = np.concatenate([test_input, datahelper.get_target_bert_feature(mode=\"test\")], axis=1)\n",
    "        else:\n",
    "            train_input = np.concatenate([train_input,\n",
    "                                          np.array([datahelper.pool_text(utt)\n",
    "                                                    for utt in datahelper.vectorize_utterance(mode=\"train\")])], axis=1)\n",
    "            test_input = np.concatenate([test_input,\n",
    "                                         np.array([datahelper.pool_text(utt)\n",
    "                                                   for utt in datahelper.vectorize_utterance(mode=\"test\")])], axis=1)\n",
    "\n",
    "    if config.use_target_video:\n",
    "        train_input = np.concatenate([train_input, datahelper.get_target_video_pool(mode=\"train\")], axis=1)\n",
    "        test_input = np.concatenate([test_input, datahelper.get_target_video_pool(mode=\"test\")], axis=1)\n",
    "\n",
    "    if config.use_target_audio:\n",
    "        train_input = np.concatenate([train_input, datahelper.get_target_audio_pool(mode=\"train\")], axis=1)\n",
    "        test_input = np.concatenate([test_input, datahelper.get_target_audio_pool(mode=\"test\")], axis=1)\n",
    "\n",
    "    if train_input.shape[1] == 0:\n",
    "        raise ValueError(\"Invalid modalities\")\n",
    "\n",
    "    # Aux input\n",
    "\n",
    "    if config.use_author:\n",
    "        train_input_author = datahelper.get_author(mode=\"train\")\n",
    "        test_input_author = datahelper.get_author(mode=\"test\")\n",
    "\n",
    "        train_input = np.concatenate([train_input, train_input_author], axis=1)\n",
    "        test_input = np.concatenate([test_input, test_input_author], axis=1)\n",
    "\n",
    "    if config.use_context:\n",
    "        if config.use_bert:\n",
    "            train_input_context = datahelper.get_context_bert_features(mode=\"train\")\n",
    "            test_input_context = datahelper.get_context_bert_features(mode=\"test\")\n",
    "        else:\n",
    "            train_input_context = datahelper.get_context_pool(mode=\"train\")\n",
    "            test_input_context = datahelper.get_context_pool(mode=\"test\")\n",
    "\n",
    "        train_input = np.concatenate([train_input, train_input_context], axis=1)\n",
    "        test_input = np.concatenate([test_input, test_input_context], axis=1)\n",
    "\n",
    "    train_output = datahelper.one_hot_output(mode=\"train\", size=config.num_classes)\n",
    "    test_output = datahelper.one_hot_output(mode=\"test\", size=config.num_classes)\n",
    "\n",
    "    return train_input, train_output, test_input, test_output"
   ]
  },
  {
   "cell_type": "code",
   "execution_count": 3,
   "id": "8c26b37f",
   "metadata": {},
   "outputs": [],
   "source": [
    "config = CONFIG_BY_KEY['tav']\n",
    "data = DataLoader(config)\n",
    "for _ in range(config.runs):\n",
    "    for fold, (train_index, test_index) in enumerate(data.get_stratified_k_fold()):\n",
    "        config.fold = fold + 1\n",
    "        train_input, train_output, test_input, test_output = train_io(config=config, data=data, train_index=train_index,\n",
    "                                                                      test_index=test_index)\n"
   ]
  },
  {
   "cell_type": "code",
   "execution_count": 4,
   "id": "70f3c782",
   "metadata": {},
   "outputs": [
    {
     "data": {
      "text/plain": [
       "(552, 2)"
      ]
     },
     "execution_count": 4,
     "metadata": {},
     "output_type": "execute_result"
    }
   ],
   "source": [
    "train_output.shape"
   ]
  },
  {
   "cell_type": "code",
   "execution_count": 5,
   "id": "95d41d23",
   "metadata": {},
   "outputs": [
    {
     "data": {
      "text/plain": [
       "(552, 3099)"
      ]
     },
     "execution_count": 5,
     "metadata": {},
     "output_type": "execute_result"
    }
   ],
   "source": [
    "train_input.shape"
   ]
  },
  {
   "cell_type": "code",
   "execution_count": 6,
   "id": "ff592c6d",
   "metadata": {},
   "outputs": [],
   "source": [
    "clf = make_pipeline(\n",
    "        StandardScaler() if config.svm_scale else FunctionTransformer(lambda x: x, validate=False),\n",
    "        svm.SVC(C=config.svm_c, gamma=\"scale\", kernel=\"rbf\")\n",
    "    )"
   ]
  },
  {
   "cell_type": "code",
   "execution_count": 7,
   "id": "4f207217",
   "metadata": {
    "scrolled": true
   },
   "outputs": [
    {
     "data": {
      "text/plain": [
       "Pipeline(steps=[('standardscaler', StandardScaler()), ('svc', SVC(C=10.0))])"
      ]
     },
     "execution_count": 7,
     "metadata": {},
     "output_type": "execute_result"
    }
   ],
   "source": [
    "clf.fit(train_input, np.argmax(train_output, axis=1))"
   ]
  },
  {
   "cell_type": "code",
   "execution_count": 8,
   "id": "6a076cb6",
   "metadata": {},
   "outputs": [],
   "source": [
    "y_predict = clf.predict(test_input)\n",
    "y_true = np.argmax(test_output,axis=1)"
   ]
  },
  {
   "cell_type": "code",
   "execution_count": 47,
   "id": "47170e0c",
   "metadata": {},
   "outputs": [
    {
     "name": "stdout",
     "output_type": "stream",
     "text": [
      "[[54 23]\n",
      " [ 6 55]]\n"
     ]
    }
   ],
   "source": [
    "conf = confusion_matrix(y_true, y_predict)\n",
    "print(confusion)"
   ]
  },
  {
   "cell_type": "code",
   "execution_count": 10,
   "id": "95d88bbc",
   "metadata": {},
   "outputs": [
    {
     "name": "stdout",
     "output_type": "stream",
     "text": [
      "              precision    recall  f1-score   support\n",
      "\n",
      "           0      0.781     0.740     0.760        77\n",
      "           1      0.692     0.738     0.714        61\n",
      "\n",
      "    accuracy                          0.739       138\n",
      "   macro avg      0.737     0.739     0.737       138\n",
      "weighted avg      0.742     0.739     0.740       138\n",
      "\n"
     ]
    }
   ],
   "source": [
    " result_string = classification_report(y_true, y_predict, digits=3)\n",
    "print(result_string)"
   ]
  },
  {
   "cell_type": "code",
   "execution_count": 11,
   "id": "d03ba704",
   "metadata": {},
   "outputs": [
    {
     "data": {
      "text/plain": [
       "(768,)"
      ]
     },
     "execution_count": 11,
     "metadata": {},
     "output_type": "execute_result"
    }
   ],
   "source": [
    "data.data_input[500][7].shape"
   ]
  },
  {
   "cell_type": "code",
   "execution_count": 12,
   "id": "6abf177a",
   "metadata": {},
   "outputs": [
    {
     "data": {
      "text/plain": [
       "690"
      ]
     },
     "execution_count": 12,
     "metadata": {},
     "output_type": "execute_result"
    }
   ],
   "source": [
    "len(data.data_input)"
   ]
  },
  {
   "cell_type": "code",
   "execution_count": 13,
   "id": "f4056263",
   "metadata": {},
   "outputs": [],
   "source": [
    "feature_vector = data.data_input[0][4]"
   ]
  },
  {
   "cell_type": "code",
   "execution_count": 14,
   "id": "dd5ca34f",
   "metadata": {},
   "outputs": [],
   "source": [
    " audio_numpy = np.array(np.mean(feature_vector, axis=1))"
   ]
  },
  {
   "cell_type": "code",
   "execution_count": 15,
   "id": "2b7ea038",
   "metadata": {},
   "outputs": [
    {
     "data": {
      "text/plain": [
       "(283,)"
      ]
     },
     "execution_count": 15,
     "metadata": {},
     "output_type": "execute_result"
    }
   ],
   "source": [
    "audio_numpy.shape"
   ]
  },
  {
   "cell_type": "code",
   "execution_count": 16,
   "id": "34682a38",
   "metadata": {},
   "outputs": [],
   "source": [
    "samp_inp = data.data_input[2][7]"
   ]
  },
  {
   "cell_type": "code",
   "execution_count": 17,
   "id": "10420cbb",
   "metadata": {},
   "outputs": [],
   "source": [
    "feature_vector1 = data.data_input[0][5]"
   ]
  },
  {
   "cell_type": "code",
   "execution_count": 18,
   "id": "40e4e171",
   "metadata": {},
   "outputs": [],
   "source": [
    "video_numpy = np.array(np.mean(feature_vector1, axis=0))"
   ]
  },
  {
   "cell_type": "code",
   "execution_count": 19,
   "id": "7007338e",
   "metadata": {},
   "outputs": [
    {
     "data": {
      "text/plain": [
       "(2048,)"
      ]
     },
     "execution_count": 19,
     "metadata": {},
     "output_type": "execute_result"
    }
   ],
   "source": [
    "video_numpy.shape"
   ]
  },
  {
   "cell_type": "code",
   "execution_count": 20,
   "id": "09390098",
   "metadata": {},
   "outputs": [],
   "source": [
    "zeros_array = np.zeros(2331)"
   ]
  },
  {
   "cell_type": "code",
   "execution_count": 21,
   "id": "4d2c0d73",
   "metadata": {},
   "outputs": [],
   "source": [
    "samp_int = np.concatenate([samp_inp,zeros_array])"
   ]
  },
  {
   "cell_type": "code",
   "execution_count": 22,
   "id": "3361dfd3",
   "metadata": {},
   "outputs": [],
   "source": [
    "samp_int = [samp_int]"
   ]
  },
  {
   "cell_type": "code",
   "execution_count": 23,
   "id": "aa30e244",
   "metadata": {},
   "outputs": [
    {
     "data": {
      "text/plain": [
       "(3099,)"
      ]
     },
     "execution_count": 23,
     "metadata": {},
     "output_type": "execute_result"
    }
   ],
   "source": [
    "test_input[0].shape"
   ]
  },
  {
   "cell_type": "code",
   "execution_count": 24,
   "id": "b3c3704c",
   "metadata": {},
   "outputs": [
    {
     "data": {
      "text/plain": [
       "[array([ 0.4107975 , -0.53687675, -0.27089625, ...,  0.        ,\n",
       "         0.        ,  0.        ])]"
      ]
     },
     "execution_count": 24,
     "metadata": {},
     "output_type": "execute_result"
    }
   ],
   "source": [
    "samp_int"
   ]
  },
  {
   "cell_type": "code",
   "execution_count": 25,
   "id": "9935864d",
   "metadata": {},
   "outputs": [],
   "source": [
    "samp_inp1 = data.data_input[4][7]"
   ]
  },
  {
   "cell_type": "code",
   "execution_count": 26,
   "id": "c3125c2a",
   "metadata": {},
   "outputs": [],
   "source": [
    "zeros_array = np.zeros(2331)\n",
    "samp_int1 = np.concatenate([samp_inp1,zeros_array])\n",
    "samp_int1 = [samp_int1]"
   ]
  },
  {
   "cell_type": "code",
   "execution_count": 27,
   "id": "967ca481",
   "metadata": {},
   "outputs": [
    {
     "data": {
      "text/plain": [
       "array([1], dtype=int64)"
      ]
     },
     "execution_count": 27,
     "metadata": {},
     "output_type": "execute_result"
    }
   ],
   "source": [
    "clf.predict(samp_int1)"
   ]
  },
  {
   "cell_type": "code",
   "execution_count": 28,
   "id": "74d44cfe",
   "metadata": {},
   "outputs": [
    {
     "data": {
      "text/plain": [
       "[array([ 1.57187500e-01, -6.09150000e-01, -1.24935750e-01, ...,\n",
       "        -4.90012361e-06, -1.70604536e-05,  2.00549024e+03])]"
      ]
     },
     "execution_count": 28,
     "metadata": {},
     "output_type": "execute_result"
    }
   ],
   "source": [
    "tst_inp = [test_input[0]]\n",
    "tst_inp"
   ]
  },
  {
   "cell_type": "code",
   "execution_count": 29,
   "id": "720b3ccf",
   "metadata": {},
   "outputs": [
    {
     "data": {
      "text/plain": [
       "array([1, 1, 0, 0, 1, 0, 1, 1, 0, 0, 1, 0, 0, 1, 1, 1, 0, 0, 1, 1, 0, 0,\n",
       "       1, 0, 1, 1, 1, 1, 1, 1, 1, 1, 1, 0, 0, 0, 0, 0, 1, 0, 0, 0, 0, 0,\n",
       "       1, 0, 1, 1, 1, 1, 0, 0, 1, 1, 1, 1, 1, 1, 1, 1, 1, 1, 1, 1, 1, 1,\n",
       "       1, 1, 1, 1, 1, 0, 0, 0, 0, 0, 0, 0, 0, 0, 0, 0, 0, 1, 0, 0, 0, 0,\n",
       "       0, 0, 0, 0, 0, 0, 0, 0, 0, 1, 0, 0, 0, 1, 0, 0, 0, 1, 0, 0, 0, 0,\n",
       "       0, 0, 0, 0, 0, 0, 0, 0, 1, 0, 0, 0, 0, 1, 0, 1, 1, 1, 1, 1, 1, 1,\n",
       "       1, 1, 1, 1, 1, 1], dtype=int64)"
      ]
     },
     "execution_count": 29,
     "metadata": {},
     "output_type": "execute_result"
    }
   ],
   "source": [
    "clf.predict(test_input)"
   ]
  },
  {
   "cell_type": "code",
   "execution_count": 30,
   "id": "467c3419",
   "metadata": {},
   "outputs": [
    {
     "data": {
      "text/plain": [
       "array([0], dtype=int64)"
      ]
     },
     "execution_count": 30,
     "metadata": {},
     "output_type": "execute_result"
    }
   ],
   "source": [
    "clf.predict([test_input[2]])"
   ]
  },
  {
   "cell_type": "code",
   "execution_count": 64,
   "id": "e6a26028",
   "metadata": {},
   "outputs": [],
   "source": [
    "samp_int2 = data.data_input[1][7]"
   ]
  },
  {
   "cell_type": "code",
   "execution_count": 65,
   "id": "d23a16ca",
   "metadata": {},
   "outputs": [
    {
     "data": {
      "text/plain": [
       "(768,)"
      ]
     },
     "execution_count": 65,
     "metadata": {},
     "output_type": "execute_result"
    }
   ],
   "source": [
    "samp_int2.shape"
   ]
  },
  {
   "cell_type": "code",
   "execution_count": 66,
   "id": "f57138ae",
   "metadata": {},
   "outputs": [],
   "source": [
    "zeros_array = np.zeros(2331)\n",
    "samp_int2 = np.concatenate([samp_int2,zeros_array])"
   ]
  },
  {
   "cell_type": "code",
   "execution_count": 67,
   "id": "4c77340d",
   "metadata": {},
   "outputs": [
    {
     "data": {
      "text/plain": [
       "array([ 0.6363785 , -0.16601725, -0.144872  , ...,  0.        ,\n",
       "        0.        ,  0.        ])"
      ]
     },
     "execution_count": 67,
     "metadata": {},
     "output_type": "execute_result"
    }
   ],
   "source": [
    "samp_int2"
   ]
  },
  {
   "cell_type": "code",
   "execution_count": 68,
   "id": "e23e6745",
   "metadata": {},
   "outputs": [],
   "source": [
    "res = clf.predict([samp_int2])"
   ]
  },
  {
   "cell_type": "code",
   "execution_count": 60,
   "id": "9902e1cb",
   "metadata": {},
   "outputs": [
    {
     "name": "stdout",
     "output_type": "stream",
     "text": [
      "not sarcastic\n"
     ]
    }
   ],
   "source": [
    "if res[0] == 0:\n",
    "    print(\"not sarcastic\")\n",
    "else:\n",
    "    print(\"sarcastic\")"
   ]
  },
  {
   "cell_type": "code",
   "execution_count": 37,
   "id": "6e4faa0f",
   "metadata": {},
   "outputs": [
    {
     "data": {
      "text/plain": [
       "(768,)"
      ]
     },
     "execution_count": 37,
     "metadata": {},
     "output_type": "execute_result"
    }
   ],
   "source": [
    "data.data_input[4][7].shape"
   ]
  },
  {
   "cell_type": "code",
   "execution_count": 38,
   "id": "6f0c89e1",
   "metadata": {},
   "outputs": [],
   "source": [
    "from sklearn.ensemble import RandomForestClassifier\n",
    "rf = RandomForestClassifier()"
   ]
  },
  {
   "cell_type": "code",
   "execution_count": 39,
   "id": "3cb9d246",
   "metadata": {},
   "outputs": [
    {
     "data": {
      "text/plain": [
       "RandomForestClassifier()"
      ]
     },
     "execution_count": 39,
     "metadata": {},
     "output_type": "execute_result"
    }
   ],
   "source": [
    "rf.fit(train_input,np.argmax(train_output, axis=1))"
   ]
  },
  {
   "cell_type": "code",
   "execution_count": 40,
   "id": "3cee7649",
   "metadata": {},
   "outputs": [],
   "source": [
    "y_pred = rf.predict(test_input)\n",
    "y_tr = np.argmax(test_output, axis=1)"
   ]
  },
  {
   "cell_type": "code",
   "execution_count": 41,
   "id": "987cded8",
   "metadata": {},
   "outputs": [
    {
     "name": "stdout",
     "output_type": "stream",
     "text": [
      "[[54 23]\n",
      " [ 6 55]]\n"
     ]
    }
   ],
   "source": [
    "confusion = confusion_matrix(y_tr, y_pred)\n",
    "print(confusion)"
   ]
  },
  {
   "cell_type": "code",
   "execution_count": 42,
   "id": "6b5424eb",
   "metadata": {},
   "outputs": [
    {
     "name": "stdout",
     "output_type": "stream",
     "text": [
      "              precision    recall  f1-score   support\n",
      "\n",
      "           0      0.900     0.701     0.788        77\n",
      "           1      0.705     0.902     0.791        61\n",
      "\n",
      "    accuracy                          0.790       138\n",
      "   macro avg      0.803     0.801     0.790       138\n",
      "weighted avg      0.814     0.790     0.790       138\n",
      "\n"
     ]
    }
   ],
   "source": [
    "result_string = classification_report(y_tr, y_pred, digits=3)\n",
    "print(result_string)"
   ]
  },
  {
   "cell_type": "code",
   "execution_count": 43,
   "id": "02a24bb6",
   "metadata": {},
   "outputs": [
    {
     "name": "stdout",
     "output_type": "stream",
     "text": [
      "Average precision score: 0.6266608183928212\n"
     ]
    }
   ],
   "source": [
    "# Import the average_precision_score function\n",
    "from sklearn.metrics import average_precision_score\n",
    "# Calculate and print the average precision score for each class\n",
    "aps = average_precision_score(y_true, y_predict)\n",
    "print(f'Average precision score: {aps}')"
   ]
  },
  {
   "cell_type": "code",
   "execution_count": 44,
   "id": "41ffe6bf",
   "metadata": {},
   "outputs": [
    {
     "name": "stdout",
     "output_type": "stream",
     "text": [
      "Average precision score: 0.6792495933622092\n"
     ]
    }
   ],
   "source": [
    "aps = average_precision_score(y_tr, y_pred)\n",
    "print(f'Average precision score: {aps}')"
   ]
  },
  {
   "cell_type": "code",
   "execution_count": 45,
   "id": "13f4ad4b",
   "metadata": {},
   "outputs": [
    {
     "data": {
      "text/plain": [
       "(552, 3099)"
      ]
     },
     "execution_count": 45,
     "metadata": {},
     "output_type": "execute_result"
    }
   ],
   "source": [
    "train_input.shape"
   ]
  },
  {
   "cell_type": "code",
   "execution_count": 48,
   "id": "d6c5e3cb",
   "metadata": {},
   "outputs": [
    {
     "data": {
      "image/png": "[encoded data removed]",
      "text/plain": [
       "<Figure size 432x288 with 2 Axes>"
      ]
     },
     "metadata": {
      "needs_background": "light"
     },
     "output_type": "display_data"
    }
   ],
   "source": [
    "import numpy as np\n",
    "from sklearn.metrics import confusion_matrix\n",
    "import seaborn as sns\n",
    "import matplotlib.pyplot as plt \n",
    "sns.heatmap(conf, \n",
    "\t\t\tannot=True,\n",
    "\t\t\tfmt='g')\n",
    "plt.ylabel('Predict',fontsize=13)\n",
    "plt.xlabel('Actual',fontsize=13)\n",
    "plt.title('Confusion Matrix',fontsize=17)\n",
    "plt.show()"
   ]
  },
  {
   "cell_type": "code",
   "execution_count": 63,
   "id": "217aabf4",
   "metadata": {},
   "outputs": [],
   "source": [
    "str1 = \"It's just a privilege to watch your mind at work.\""
   ]
  },
  {
   "cell_type": "code",
   "execution_count": 69,
   "id": "924706e1",
   "metadata": {},
   "outputs": [
    {
     "name": "stdout",
     "output_type": "stream",
     "text": [
      "sarcastic\n"
     ]
    }
   ],
   "source": [
    "res = clf.predict([samp_int2]) #samp_int2 is here after feature extraction\n",
    "\n",
    "if res[0] == 0:\n",
    "    print(\"not sarcastic\")\n",
    "else:\n",
    "    print(\"sarcastic\")"
   ]
  },
  {
   "cell_type": "code",
   "execution_count": null,
   "id": "2fd54142",
   "metadata": {},
   "outputs": [],
   "source": []
  }
 ],
 "metadata": {
  "kernelspec": {
   "display_name": "Python 3",
   "language": "python",
   "name": "python3"
  },
  "language_info": {
   "codemirror_mode": {
    "name": "ipython",
    "version": 3
   },
   "file_extension": ".py",
   "mimetype": "text/x-python",
   "name": "python",
   "nbconvert_exporter": "python",
   "pygments_lexer": "ipython3",
   "version": "3.8.8"
  }
 },
 "nbformat": 4,
 "nbformat_minor": 5
}
